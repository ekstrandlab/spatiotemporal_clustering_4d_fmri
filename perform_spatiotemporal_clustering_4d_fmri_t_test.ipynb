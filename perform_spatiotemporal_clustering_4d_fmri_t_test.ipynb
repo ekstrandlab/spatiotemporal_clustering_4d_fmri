{
 "cells": [
  {
   "cell_type": "code",
   "execution_count": null,
   "id": "2d0de554",
   "metadata": {},
   "outputs": [],
   "source": [
    "# Author: Chelsea Ekstrand <chelsea.ekstrand@uleth.ca>"
   ]
  },
  {
   "cell_type": "code",
   "execution_count": 2,
   "id": "a969fcf7",
   "metadata": {},
   "outputs": [],
   "source": [
    "# import functions\n",
    "\n",
    "import numpy as np\n",
    "import scipy\n",
    "import mne as mne\n",
    "import nibabel as nib\n",
    "from mne.stats import spatio_temporal_cluster_1samp_test, spatio_temporal_cluster_test\n",
    "from os import path"
   ]
  },
  {
   "cell_type": "code",
   "execution_count": 21,
   "id": "98cd36e8",
   "metadata": {},
   "outputs": [],
   "source": [
    "# set variables\n",
    "\n",
    "cond1data = '/media/ekstrand/BackupPlus2/NaturalisticDataset_v2/sub_face_averages/20sub_average_task-500daysofsummer_cond-face_TRtimepoints-11.nii.gz' # path to restructured data file for condition 1\n",
    "cond2data = '/media/ekstrand/BackupPlus2/NaturalisticDataset_v2/sub_noface_averages/20sub_average_task-500daysofsummer_cond-noface_TRtimepoints-11.nii.gz'# path to restructured data file for condition 1\n",
    "cond1name = 'face' # name of condition 1\n",
    "cond2name = 'noface' # name of condition 2\n",
    "saveDir = '/media/ekstrand/BackupPlus2/NaturalisticDataset_v2/sub_face_averages/'# path to save results\n",
    "pval = .001 \n",
    "n_permutations = 5000\n",
    "test = 'paired' # type of t-test to perform, options: 'ind' = independent, 'paired' = paired\n",
    "tail = 0 # 0 = two-tailed test, 1 = one-tailed test, thresholded above 0, -1 = one-tailed test, thresholded below 0"
   ]
  },
  {
   "cell_type": "code",
   "execution_count": 22,
   "id": "8f6c8726",
   "metadata": {},
   "outputs": [
    {
     "name": "stdout",
     "output_type": "stream",
     "text": [
      "Loading fMRI data for condition 1: face\n",
      "Loading fMRI data for condition 2: noface\n",
      "Running independent samples t-test for 40 participants\n",
      "stat_fun(H1): min=nan max=nan\n",
      "Running initial clustering\n",
      "Found 1249 clusters\n"
     ]
    },
    {
     "name": "stderr",
     "output_type": "stream",
     "text": [
      "/tmp/ipykernel_558633/1701037415.py:85: RuntimeWarning: Provided stat_fun does not treat variables independently. Setting buffer_size to None.\n",
      "  F_obs, clusters, cluster_pv, H0 = clu = mne.stats.spatio_temporal_cluster_test(\n"
     ]
    },
    {
     "name": "stdout",
     "output_type": "stream",
     "text": [
      "Permuting 49 times...\n"
     ]
    },
    {
     "data": {
      "application/vnd.jupyter.widget-view+json": {
       "model_id": "0aae2f6d201f49b4a6992918d33266f2",
       "version_major": 2,
       "version_minor": 0
      },
      "text/plain": [
       "  0%|          |  : 0/49 [00:00<?,       ?it/s]"
      ]
     },
     "metadata": {},
     "output_type": "display_data"
    },
    {
     "name": "stdout",
     "output_type": "stream",
     "text": [
      "Computing cluster p-values\n",
      "Done.\n",
      "Saving results to /media/ekstrand/BackupPlus2/NaturalisticDataset_v2/sub_face_averages/\n",
      "Done!\n"
     ]
    }
   ],
   "source": [
    "# perform desired t-test and save results\n",
    "\n",
    "def save_nifti(filename,affine,data):\n",
    "    img = nib.Nifti1Image(data,affine)\n",
    "    nib.save(img, filename)\n",
    "    return()\n",
    "\n",
    "# load functional data\n",
    "print('Loading fMRI data for condition 1: ' + cond1name)\n",
    "load_c1_data = nib.load(cond1data)\n",
    "c1_data = load_c1_data.get_fdata()\n",
    "print('Loading fMRI data for condition 2: ' + cond2name)\n",
    "load_c2_data = nib.load(cond2data)\n",
    "c2_data = load_c2_data.get_fdata()\n",
    "\n",
    "N1,t,x,y,z = np.shape(c1_data)\n",
    "N2,t,x,y,z = np.shape(c2_data)\n",
    "\n",
    "#create a regular lattice adjacency for each spatial dimension\n",
    "x_adjacency,y_adjacency,z_adjacency,t_adjacency=(x,y,z,t)\n",
    "adjacency = mne.stats.combine_adjacency(x_adjacency, y_adjacency, z_adjacency)\n",
    "\n",
    "if test == 'paired':\n",
    "    print('Running paired samples t-test for ' + str(N1) + ' participants')\n",
    "    \n",
    "    df = N1 - 1\n",
    "    if tail == 0:\n",
    "        thresh =  scipy.stats.t.ppf(1-pval/2,df)\n",
    "    elif tail == 1:\n",
    "        thresh =  scipy.stats.t.ppf(1-pval,df)\n",
    "    elif tail == -1:\n",
    "        thresh =  scipy.stats.t.ppf(pval,df)\n",
    "    \n",
    "    contrast = c1_data - c2_data\n",
    "    \n",
    "    # perform t-test\n",
    "    t_obs,clusters,cluster_pv,H0 = clu = mne.stats.spatio_temporal_cluster_1samp_test(\n",
    "        X=contrast,\n",
    "        stat_fun=None,\n",
    "        adjacency=adjacency,\n",
    "        threshold=thresh,\n",
    "        tail=tail,\n",
    "        n_permutations=n_permutations,\n",
    "        out_type='mask',\n",
    "        max_step=1)\n",
    "    \n",
    "    # save output\n",
    "    print('Saving results to ' + saveDir)\n",
    "    contrast_ave = contrast.mean(axis=0)\n",
    "    signs = np.sign(contrast_ave)\n",
    "    \n",
    "    T_obs_plot = np.nan * np.ones_like(t_obs)\n",
    "    clust_fill = np.nan * np.ones_like(t_obs)\n",
    "    \n",
    "    # mask t-statistic images with significant clusters\n",
    "    i=1\n",
    "    for c, p_val in zip(clusters, cluster_pv):\n",
    "        if p_val <= 0.05:\n",
    "            T_obs_plot[c] = t_obs[c]\n",
    "            clust_fill[c] = signs[c]*i\n",
    "            i=i+1\n",
    "    T_obs_plot = np.transpose(T_obs_plot,(1,2,3,0))\n",
    "    clust_fill = np.transpose(clust_fill,(1,2,3,0))\n",
    "    contrast_ave = np.transpose(contrast_ave,(1,2,3,0))\n",
    "    \n",
    "    # save results\n",
    "    affine_mat = load_c1_data.affine\n",
    "    t_file = path.join(saveDir,'4d_spatiotemporal_cluster_results_pairedt_' + cond1name + '_vs_' + cond2name + '_n_perm-' + str(n_permutations) + '_tstat.nii.gz')\n",
    "    clust_file = path.join(saveDir,'4d_spatiotemporal_cluster_results_pairedt_' + cond1name + '_vs_' + cond2name + '_n_perm-' + str(n_permutations) + '_clusters.nii.gz')\n",
    "    ave_file = path.join(saveDir,'4d_spatiotemporal_cluster_results_pairedt_' + cond1name + '_vs_' + cond2name + '_n_perm-' + str(n_permutations) + '_contrast_average.nii.gz')\n",
    "    \n",
    "    save_nifti(t_file,affine_mat,T_obs_plot)\n",
    "    save_nifti(clust_file,affine_mat,clust_fill)\n",
    "    save_nifti(ave_file,affine_mat,contrast_ave)\n",
    "    \n",
    "    print('Done!')\n",
    "    \n",
    "elif test == 'ind':\n",
    "    print('Running independent samples t-test for ' + str(N1+N2) + ' participants')\n",
    "    dfn = 2 - 1  # degrees of freedom numerator\n",
    "    dfd = N1 + N2 - 2  # degrees of freedom denominator\n",
    "    thresh = scipy.stats.f.ppf(1 - pval, dfn=dfn, dfd=dfd)  # F distribution\n",
    "    \n",
    "    # perform t-test\n",
    "    F_obs, clusters, cluster_pv, H0 = clu = mne.stats.spatio_temporal_cluster_test(\n",
    "        X=[c1_data, c2_data],\n",
    "        adjacency=adjacency,\n",
    "        threshold=thresh,\n",
    "        tail=tail,\n",
    "        n_permutations=n_permutations,\n",
    "        out_type='mask',\n",
    "        max_step=1)\n",
    "    \n",
    "    c1_average = c1_data.mean(axis=0)\n",
    "    c2_average = c2_data.mean(axis=0)\n",
    "    \n",
    "    c1_c2_contrast = c1_average-c2_average\n",
    "    signs = np.sign(c1_c2_contrast)\n",
    "    \n",
    "    F_obs_plot = np.nan * np.ones_like(F_obs)\n",
    "    clust_fill = np.nan * np.ones_like(F_obs)\n",
    "    \n",
    "    i=1\n",
    "    for c, p_val in zip(clusters, cluster_pv):\n",
    "        if p_val <= 0.05:\n",
    "            F_obs_plot[c] = F_obs[c]*signs[c]\n",
    "            clust_fill[c] = signs[c]*i\n",
    "            i=i+1\n",
    "            \n",
    "    print('Saving results to ' + saveDir)\n",
    "    F_obs_plot = np.transpose(F_obs_plot,(1,2,3,0))\n",
    "    clust_fill = np.transpose(clust_fill,(1,2,3,0))\n",
    "    c1_c2_contrast = np.transpose(c1_c2_contrast,(1,2,3,0))\n",
    "    \n",
    "    # save results\n",
    "    affine_mat = load_c1_data.affine\n",
    "    F_file = path.join(saveDir,'4d_spatiotemporal_cluster_results_indt_' + cond1name + '_vs_' + cond2name + '_n_perm-' + str(n_permutations) + '_tstat.nii.gz')\n",
    "    clust_file = path.join(saveDir,'4d_spatiotemporal_cluster_results_indt_' + cond1name + '_vs_' + cond2name + '_n_perm-' + str(n_permutations) + '_clusters.nii.gz')\n",
    "    contrast_file = path.join(saveDir,'4d_spatiotemporal_cluster_results_indt_' + cond1name + '_vs_' + cond2name + '_n_perm-' + str(n_permutations) + '_contrast_average.nii.gz')\n",
    "    \n",
    "    save_nifti(F_file,affine_mat,F_obs_plot)\n",
    "    save_nifti(clust_file,affine_mat,clust_fill)\n",
    "    save_nifti(contrast_file,affine_mat,c1_c2_contrast)\n",
    "    \n",
    "    print('Done!')"
   ]
  },
  {
   "cell_type": "code",
   "execution_count": null,
   "id": "62b81299",
   "metadata": {},
   "outputs": [],
   "source": []
  }
 ],
 "metadata": {
  "kernelspec": {
   "display_name": "Python 3 (ipykernel)",
   "language": "python",
   "name": "python3"
  },
  "language_info": {
   "codemirror_mode": {
    "name": "ipython",
    "version": 3
   },
   "file_extension": ".py",
   "mimetype": "text/x-python",
   "name": "python",
   "nbconvert_exporter": "python",
   "pygments_lexer": "ipython3",
   "version": "3.10.10"
  }
 },
 "nbformat": 4,
 "nbformat_minor": 5
}
